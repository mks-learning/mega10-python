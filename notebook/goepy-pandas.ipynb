# %% codecell
import os
import geopy
import pandas
from geopy.geocoders import ArcGIS
# %% codecell
df=pandas.read_csv('supermarkets.csv')
df
df1
df2
# %% codecell
df2
# %% codecell
df3['Address']=df['Address']+', '+df['City']+', '+df['State']+', '+df['Country']
df3
# %% codecell
nom=ArcGIS()
# %% codecell
df['Coordinates']=df['Address'].apply(nom.geocode)
df
# %% codecell
df.Coordinates[0].longitude
# %% codecell
df['Latitude']=df['Coordinates'].apply(lambda x: x.latitude)
df['Longitude']=df['Coordinates'].apply(lambda x: x.longitude)
df
# %% codecell
df3= df.drop('Coordinates', 1)
df3
# %% codecell
df
# %% codecell
df1
# %% codecell
df2
# %% codecell
df3
# %% codecell
df3
# %% codecell
df3_t=df3.T
df3_t
# %% codecell
df3_t[6]=[7,'4058 Ben Lomond Dr, Palo Alto, CA 94306, USA','Palo Alto', 'CA 94306', 'USA', 'Piazzas Market', 45,'','','']
df3_t
# %% codecell
df3=df3_t.T
df3
# %% codecell
df3['Coordinates']=df['Address'].apply(nom.geocode)
df3
# %% codecell
df3['Coordinates']
# %% codecell
df3['Coordinates']=df3['Address']
# %% codecell
df3
# %% codecell
df3['Coordinates']=df3['Coordinates'].apply(nom.geocode)
df3
# %% codecell
df3['Latitude']=df3['Coordinates'].apply(lambda x: x.latitude)
df3['Longitude']=df3['Coordinates'].apply(lambda x: x.longitude)
df3
# %% codecell
