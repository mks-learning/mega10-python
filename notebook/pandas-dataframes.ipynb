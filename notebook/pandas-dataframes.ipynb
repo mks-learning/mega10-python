# %% codecell
import os
os.listdir()
# %% codecell
import pandas
df1=pandas.read_csv('supermarkets.csv')
df1
# %% codecell
df2=pandas.read_json('supermarkets.json')
df2
# %% codecell
df3=pandas.read_table('supermarkets-semi-colons.txt', delimiter=';')
df3
# %% codecell
df4=pandas.read_table('supermarkets-commas.txt', delimiter=',')
df4
# %% codecell
df5=pandas.read_excel('supermarkets.xlsx', sheet_name=0)
df5
# %% codecell
df6=pandas.read_table('no-head-supermarkets-commas.txt', header=None, sep=',')
df6
# %% codecell
df6.columns= ['ID', 'Address', 'City', 'State','Country', 'Market Name','Employees']
df6
# %% codecell
df7 = df6.set_index('ID')
df7
# %% codecell
df7.loc[3 , 'Country']
# %% codecell
list(df7.loc[3])
# %% codecell
df7.iloc[1:3, 1:4]
# %% codecell
df8 = df7.drop('City', 1)
df8
# %% codecell
df9 = df8.drop(4,0)
df9
# %% codecell
df10 = df9.drop(df9[0:3],1)
df10
# %% codecell
len(df7.index)
# %% codecell
df7['Continent']=df7.shape[0]*['North America']
df7
# %% codecell
df7_t=df7.T
df7_t
# %% codecell
df7_t[7]=['My Address','My City', 'My State', 'My Country','My Market', 14, 'North America']
df7_t
# %% codecell
df7 = df7_t.T
df7
# %% codecell
type(df7)
# %% codecell

# %% codecell
import geopy
# %% codecell
dir(geopy)
# %% codecell
from geopy.geocoders import ArcGIS
nom=ArcGIS()
n=nom.geocode('3395 23rd st, San Francisco, CA, 94114')
# %% codecell
type(n)
# %% codecell
n.longitude
# %% codecell
n.latitude
# %% codecell
