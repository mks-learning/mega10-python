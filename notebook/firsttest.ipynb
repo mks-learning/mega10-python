# %% codecell
import os
os.listdir()
# %% codecell
import pandas
# %% codecell
df1=pandas.read_csv('supermarkets.csv')
df1
